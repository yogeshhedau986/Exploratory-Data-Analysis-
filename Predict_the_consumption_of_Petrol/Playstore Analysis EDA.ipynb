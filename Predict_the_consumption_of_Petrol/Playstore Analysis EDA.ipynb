{
 "cells": [
  {
   "cell_type": "code",
   "execution_count": 2,
   "id": "c1c9399d",
   "metadata": {},
   "outputs": [],
   "source": [
    "import pandas as pd\n",
    "import numpy as np\n",
    "import seaborn as sns\n",
    "import matplotlib.pyplot as plt\n",
    "%matplotlib inline\n",
    "color = sns.color_palette()\n",
    "import warnings\n",
    "warnings.filterwarnings(\"ignore\")"
   ]
  },
  {
   "cell_type": "code",
   "execution_count": 1,
   "id": "7e7eec94",
   "metadata": {},
   "outputs": [
    {
     "ename": "NameError",
     "evalue": "name 'pd' is not defined",
     "output_type": "error",
     "traceback": [
      "\u001b[1;31m---------------------------------------------------------------------------\u001b[0m",
      "\u001b[1;31mNameError\u001b[0m                                 Traceback (most recent call last)",
      "Input \u001b[1;32mIn [1]\u001b[0m, in \u001b[0;36m<cell line: 1>\u001b[1;34m()\u001b[0m\n\u001b[1;32m----> 1\u001b[0m data \u001b[38;5;241m=\u001b[39m \u001b[43mpd\u001b[49m\u001b[38;5;241m.\u001b[39mread_csv(\u001b[38;5;124m'\u001b[39m\u001b[38;5;124mplaystore_analysis.csv\u001b[39m\u001b[38;5;124m'\u001b[39m)\n",
      "\u001b[1;31mNameError\u001b[0m: name 'pd' is not defined"
     ]
    }
   ],
   "source": [
    "data = pd.read_csv('playstore_analysis.csv')"
   ]
  },
  {
   "cell_type": "code",
   "execution_count": null,
   "id": "08382e96",
   "metadata": {},
   "outputs": [],
   "source": [
    "data.head()"
   ]
  },
  {
   "cell_type": "code",
   "execution_count": null,
   "id": "15622e7a",
   "metadata": {},
   "outputs": [],
   "source": [
    "data.info()"
   ]
  },
  {
   "cell_type": "code",
   "execution_count": null,
   "id": "3fee4172",
   "metadata": {},
   "outputs": [],
   "source": [
    "data.describe()"
   ]
  },
  {
   "cell_type": "markdown",
   "id": "793504a5",
   "metadata": {},
   "source": [
    "# 1. Data Cleanning – Missing value treatment\n",
    "a. Drop records where rating is missing since rating is our target/study variable"
   ]
  },
  {
   "cell_type": "code",
   "execution_count": null,
   "id": "35c9b07f",
   "metadata": {},
   "outputs": [],
   "source": [
    "print(\"Missing Values :\")\n",
    "data.isnull().sum()"
   ]
  },
  {
   "cell_type": "code",
   "execution_count": null,
   "id": "51260470",
   "metadata": {},
   "outputs": [],
   "source": [
    "data1=data.dropna(subset=['Rating'])"
   ]
  },
  {
   "cell_type": "code",
   "execution_count": null,
   "id": "35600ba6",
   "metadata": {},
   "outputs": [],
   "source": [
    "print(\"Missing Values :\")\n",
    "data1.isnull().sum()"
   ]
  },
  {
   "cell_type": "markdown",
   "id": "e03ae15e",
   "metadata": {},
   "source": [
    "b. Check the null values for the Android Ver column.\n",
    "\n",
    "i. Are all 3 records having the same problem?\n",
    "\n",
    "Yes"
   ]
  },
  {
   "cell_type": "code",
   "execution_count": null,
   "id": "792325fd",
   "metadata": {},
   "outputs": [],
   "source": [
    "print(f\"Missing Values : {data1['Android Ver'].isnull().sum()}\")"
   ]
  },
  {
   "cell_type": "code",
   "execution_count": null,
   "id": "288f1b41",
   "metadata": {},
   "outputs": [],
   "source": [
    "data1[data1.isna().any(axis=1)]"
   ]
  },
  {
   "cell_type": "markdown",
   "id": "b05701ba",
   "metadata": {},
   "source": [
    "ii. Drop the 3rd record i.e. record for “Life Made WIFI …”"
   ]
  },
  {
   "cell_type": "code",
   "execution_count": null,
   "id": "a23aea94",
   "metadata": {},
   "outputs": [],
   "source": [
    "data2 = data1.drop(10472)\n",
    "# Verification\n",
    "verify = data2[data2[\"App\"]=='Life Made WI-Fi Touchscreen Photo Frame']\n",
    "print (verify)"
   ]
  },
  {
   "cell_type": "markdown",
   "id": "34c0c78c",
   "metadata": {},
   "source": [
    "iii. Replace remaining missing values with the mode."
   ]
  },
  {
   "cell_type": "code",
   "execution_count": null,
   "id": "efdda8af",
   "metadata": {},
   "outputs": [],
   "source": [
    "import statistics\n",
    "Android_list = data2['Android Ver'].to_list()\n",
    "#print(Android_list)\n",
    "data3 = data2.fillna(statistics.mode(Android_list))\n",
    "\n",
    "print(data3.loc[[4453]])\n",
    "print('--------------------------------------------------------------------')\n",
    "print(data3.loc[[4490]])"
   ]
  },
  {
   "cell_type": "markdown",
   "id": "fa5b6c10",
   "metadata": {},
   "source": [
    "c. Current ver – replace with most common value"
   ]
  },
  {
   "cell_type": "code",
   "execution_count": null,
   "id": "8a6d86da",
   "metadata": {},
   "outputs": [],
   "source": [
    "print(f\"Missing Values :{data3['Current Ver'].isnull().sum()}\")"
   ]
  },
  {
   "cell_type": "markdown",
   "id": "6aae5511",
   "metadata": {},
   "source": [
    "# 2. Data clean up – correcting the data types\n",
    "a. Which all variables need to be brought to numeric types?"
   ]
  },
  {
   "cell_type": "code",
   "execution_count": null,
   "id": "3f60975f",
   "metadata": {},
   "outputs": [],
   "source": [
    "data3['Reviews'] = data3['Reviews'].astype(int)\n",
    "data3['Size'] = data3['Size'].astype(int)"
   ]
  },
  {
   "cell_type": "markdown",
   "id": "5abf9f3c",
   "metadata": {},
   "source": [
    "b. Price variable – remove $ sign and convert to float"
   ]
  },
  {
   "cell_type": "code",
   "execution_count": null,
   "id": "a53d0b12",
   "metadata": {},
   "outputs": [],
   "source": [
    "data3['Price'] = data3['Price'].str.replace('$', '')"
   ]
  },
  {
   "cell_type": "code",
   "execution_count": null,
   "id": "cb71e303",
   "metadata": {},
   "outputs": [],
   "source": [
    "data3.head(2)"
   ]
  },
  {
   "cell_type": "code",
   "execution_count": null,
   "id": "bcc25bdb",
   "metadata": {},
   "outputs": [],
   "source": [
    "data3['Price'] = data3['Price'].astype(float)"
   ]
  },
  {
   "cell_type": "code",
   "execution_count": null,
   "id": "15d19ac2",
   "metadata": {},
   "outputs": [],
   "source": [
    "data3.info()"
   ]
  },
  {
   "cell_type": "markdown",
   "id": "734a5abe",
   "metadata": {},
   "source": [
    "c. Installs – remove ‘,’ and ‘+’ sign, convert to integer"
   ]
  },
  {
   "cell_type": "code",
   "execution_count": null,
   "id": "becd191b",
   "metadata": {},
   "outputs": [],
   "source": [
    "data3['Installs'] = data3['Installs'].str.replace('+','')"
   ]
  },
  {
   "cell_type": "code",
   "execution_count": null,
   "id": "fc488d7f",
   "metadata": {},
   "outputs": [],
   "source": [
    "data3['Installs'] = data3['Installs'].str.replace(',', '')"
   ]
  },
  {
   "cell_type": "code",
   "execution_count": null,
   "id": "0d77d410",
   "metadata": {},
   "outputs": [],
   "source": [
    "data3['Installs'] = data3['Installs'].astype(int)"
   ]
  },
  {
   "cell_type": "code",
   "execution_count": null,
   "id": "b44c5ae8",
   "metadata": {},
   "outputs": [],
   "source": [
    "data3.head(2)"
   ]
  },
  {
   "cell_type": "code",
   "execution_count": null,
   "id": "c7ac049f",
   "metadata": {},
   "outputs": [],
   "source": [
    "data3.info()"
   ]
  },
  {
   "cell_type": "markdown",
   "id": "151510b5",
   "metadata": {},
   "source": [
    "# 3. Sanity checks – check for the following and handle accordingly\n",
    "a.  Avg. rating should be between 1 and 5, as only these values are allowed on the play store."
   ]
  },
  {
   "cell_type": "code",
   "execution_count": null,
   "id": "f5b1cf37",
   "metadata": {},
   "outputs": [],
   "source": [
    "pd.unique(data3[['Rating']].values.ravel())\n",
    "#.ravel()-->return 1D array with all the input-array elements"
   ]
  },
  {
   "cell_type": "markdown",
   "id": "926ca3e1",
   "metadata": {},
   "source": [
    "Yes, all Avg. rating values are in between 1 to 5\n",
    "\n",
    "i. Are there any such records? Drop if so.\n",
    "\n",
    " No such record has been obesrved."
   ]
  },
  {
   "cell_type": "markdown",
   "id": "6eb3a544",
   "metadata": {},
   "source": [
    "b. Reviews should not be more than installs as only those who installed can review the app."
   ]
  },
  {
   "cell_type": "code",
   "execution_count": null,
   "id": "745ea9ba",
   "metadata": {},
   "outputs": [],
   "source": [
    "df = pd.DataFrame()\n",
    "df = data3[data3.Reviews <= data3.Installs]\n",
    "df.head(5)"
   ]
  },
  {
   "cell_type": "code",
   "execution_count": null,
   "id": "d42efd99",
   "metadata": {},
   "outputs": [],
   "source": [
    "df.shape"
   ]
  },
  {
   "cell_type": "markdown",
   "id": "f31a22a8",
   "metadata": {},
   "source": [
    "# 4. Identify and handle outliers –\n",
    "a. Price column\n",
    "\n",
    "i. Make suitable plot to identify outliers in price"
   ]
  },
  {
   "cell_type": "code",
   "execution_count": null,
   "id": "6ffdd7da",
   "metadata": {},
   "outputs": [],
   "source": [
    "plt.subplots(figsize=(20,8))\n",
    "sns.boxplot(df.Price)\n",
    "\n",
    "plt.xlabel('Unit Price')\n",
    "plt.title('Unit Price')\n",
    "plt.grid()\n",
    "plt.show()"
   ]
  },
  {
   "cell_type": "markdown",
   "id": "2b257a26",
   "metadata": {},
   "source": [
    "ii. Do you expect apps on the play store to cost $200? Check out these cases"
   ]
  },
  {
   "cell_type": "code",
   "execution_count": null,
   "id": "bd6b05f2",
   "metadata": {},
   "outputs": [],
   "source": [
    "df1 = data3[data3['Price'] == 200]\n",
    "print(df1)"
   ]
  },
  {
   "cell_type": "markdown",
   "id": "ba011166",
   "metadata": {},
   "source": [
    "iii. After dropping the useless records, make the suitable plot again to identify\n",
    "outliers"
   ]
  },
  {
   "cell_type": "code",
   "execution_count": null,
   "id": "404ed083",
   "metadata": {},
   "outputs": [],
   "source": [
    "df2 = df[df['Price'] != 0]\n",
    "\n",
    "plt.subplots(figsize=(20,8))\n",
    "sns.boxplot(df2.Price)\n",
    "\n",
    "plt.xlabel('Unit Price')\n",
    "plt.title('Unit Price')\n",
    "plt.grid()\n",
    "plt.show()"
   ]
  },
  {
   "cell_type": "markdown",
   "id": "474673f2",
   "metadata": {},
   "source": [
    "iv. Limit data to records with price < $30"
   ]
  },
  {
   "cell_type": "code",
   "execution_count": null,
   "id": "b858103a",
   "metadata": {},
   "outputs": [],
   "source": [
    "limit_data = df[df['Price'] < 30]\n",
    "limit_data.head()"
   ]
  },
  {
   "cell_type": "code",
   "execution_count": null,
   "id": "a0566de0",
   "metadata": {},
   "outputs": [],
   "source": [
    "limit_data.shape"
   ]
  },
  {
   "cell_type": "markdown",
   "id": "4c19dac2",
   "metadata": {},
   "source": [
    "b. Reviews column\n",
    "\n",
    "i. Make suitable plot"
   ]
  },
  {
   "cell_type": "code",
   "execution_count": null,
   "id": "d0b0739b",
   "metadata": {},
   "outputs": [],
   "source": [
    "total=df.groupby('Category')['Reviews'].sum().sort_values()\n",
    "plt.subplots(figsize=(15,8))\n",
    "total.plot(kind='barh', fontsize=14)\n",
    "print(total.sort_values(ascending=False))\n",
    "plt.show()"
   ]
  },
  {
   "cell_type": "markdown",
   "id": "f0ebdbd1",
   "metadata": {},
   "source": [
    "ii. Limit data to apps with < 1 Million reviews"
   ]
  },
  {
   "cell_type": "code",
   "execution_count": null,
   "id": "83002c86",
   "metadata": {},
   "outputs": [],
   "source": [
    "limit_data = df[df['Reviews'] < 1000000]\n",
    "limit_data.head(5)"
   ]
  },
  {
   "cell_type": "code",
   "execution_count": null,
   "id": "be8dd9d3",
   "metadata": {},
   "outputs": [],
   "source": [
    "limit_data.shape"
   ]
  },
  {
   "cell_type": "markdown",
   "id": "d8a6a960",
   "metadata": {},
   "source": [
    "c. Installs\n",
    "\n",
    "i. What is the 95th percentile of the installs?"
   ]
  },
  {
   "cell_type": "code",
   "execution_count": null,
   "id": "624d8f6a",
   "metadata": {},
   "outputs": [],
   "source": [
    "val = df.Installs.quantile(0.95) # 95th percentile\n",
    "print(val)"
   ]
  },
  {
   "cell_type": "markdown",
   "id": "18dad6ff",
   "metadata": {},
   "source": [
    "ii. Drop records having a value more than the 95th percentile"
   ]
  },
  {
   "cell_type": "code",
   "execution_count": null,
   "id": "2b8856d2",
   "metadata": {},
   "outputs": [],
   "source": [
    "# Verification\n",
    "x = df.Installs.quantile() > val\n",
    "print (x)"
   ]
  },
  {
   "cell_type": "markdown",
   "id": "21ce377b",
   "metadata": {},
   "source": [
    "# Data analysis to answer business questions\n",
    "\n",
    "5. What is the distribution of ratings like? (use Seaborn) More skewed towards higher/lower values?"
   ]
  },
  {
   "cell_type": "code",
   "execution_count": null,
   "id": "a37569f4",
   "metadata": {},
   "outputs": [],
   "source": [
    "sns.distplot(df['Rating'])\n",
    "plt.show()"
   ]
  },
  {
   "cell_type": "markdown",
   "id": "5cc92d29",
   "metadata": {},
   "source": [
    "A left skewed distribution frequently referred as negatively skewed distribution as its long tail is falling on neg side and the mean is also on the left of the peak.\n",
    "\n",
    "The three measures on the plot signify \n",
    "\n",
    "Mean less than mode\n",
    "\n",
    "Median less than mode\n",
    "\n",
    "Mean less than median\n",
    "\n",
    "We can therefore identify most of the app rating belongs to the group of 4 to 5."
   ]
  },
  {
   "cell_type": "markdown",
   "id": "d2b1b163",
   "metadata": {},
   "source": [
    "b. What is the implication of this on your analysis?\n",
    "\n",
    "Real life distributions are usually skewed. If there are too much skewness in the data, then many statistical model don’t work.\n",
    "So in skewed data, the tail region may act as an outlier for the statistical model and we know that outliers adversely affect the model’s performance especially regression-based models.\n",
    "So there is a necessity to transform the skewed data to close enough to a Gaussian distribution or Normal distribution. This will allow us to try more number of statistical model.\n",
    "\n",
    "Conclusion:\n",
    "If we have a skewed data then it may harm our results. So, in order to use a skewed data we have to apply a log transformation over the whole set of values to discover patterns in the data and make it usable for the statistical model.\n",
    "\n",
    "6.  What are the top Content Rating values?"
   ]
  },
  {
   "cell_type": "code",
   "execution_count": null,
   "id": "e6660ea5",
   "metadata": {},
   "outputs": [],
   "source": [
    "df['Content Rating'].value_counts()"
   ]
  },
  {
   "cell_type": "markdown",
   "id": "c2dbd6b3",
   "metadata": {},
   "source": [
    "a. Are there any values with very few records?  Yes\n",
    "\n",
    "'Unrated' Content Rating has value 1 and Adults only 18+\n",
    "\n",
    "b. If yes, drop those as they won’t help in the analysis"
   ]
  },
  {
   "cell_type": "code",
   "execution_count": null,
   "id": "6b4668fe",
   "metadata": {},
   "outputs": [],
   "source": [
    "Adult_rating = df[df['Content Rating'] == 'Adults only 18+'].index.to_list()\n",
    "unrated =df[df['Content Rating'] == 'Unrated'].index.to_list()\n",
    "df.drop(Adult_rating, inplace = True)\n",
    "df.drop(unrated, inplace = True)\n",
    "df['Content Rating'].value_counts()"
   ]
  },
  {
   "cell_type": "markdown",
   "id": "a1f93b66",
   "metadata": {},
   "source": [
    "7. Effect of size on rating\n",
    "\n",
    "a.Make a joinplot to understand the effect of size on rating"
   ]
  },
  {
   "cell_type": "code",
   "execution_count": null,
   "id": "382f5f53",
   "metadata": {},
   "outputs": [],
   "source": [
    "sns.jointplot(x=df['Size'],y=df['Rating'],data=df,kind='hex')\n",
    "plt.show()"
   ]
  },
  {
   "cell_type": "markdown",
   "id": "9ecfea65",
   "metadata": {},
   "source": [
    "b. Do you see any patterns? c. How do you explain the pattern?\n",
    "\n",
    "No pattern although, This helped us to identify that the max points came along 4.0 to 4.5 and 40,960.\n",
    "\n",
    "40,960 and above apps tends to get good ratings.\n",
    "\n",
    "8.  Effect of price on rating\n",
    "\n",
    "a. Make a jointplot (with regression line)"
   ]
  },
  {
   "cell_type": "code",
   "execution_count": null,
   "id": "192c9724",
   "metadata": {},
   "outputs": [],
   "source": [
    "sns.jointplot(x =\"Rating\" , y = \"Price\" ,data = df)\n",
    "plt.show()"
   ]
  },
  {
   "cell_type": "markdown",
   "id": "fd4a9533",
   "metadata": {},
   "source": [
    "b. What pattern do you see?\n",
    "\n",
    "c. How do you explain the pattern?\n",
    "\n",
    "increasing the price, Rating Increases\n",
    "\n",
    "d. Replot the data, this time with only records with price > 0"
   ]
  },
  {
   "cell_type": "code",
   "execution_count": null,
   "id": "a40653a9",
   "metadata": {},
   "outputs": [],
   "source": [
    "Price_greaterthan_zero = df[df['Price'] > 0]\n",
    "sns.jointplot(x =\"Price\" , y = \"Rating\" ,data = Price_greaterthan_zero, kind = \"reg\" )\n",
    "plt.show()"
   ]
  },
  {
   "cell_type": "code",
   "execution_count": null,
   "id": "4e877747",
   "metadata": {},
   "outputs": [],
   "source": [
    "sns.lmplot(x='Price', y='Rating', hue ='Content Rating', data=df)\n",
    "plt.show()"
   ]
  },
  {
   "cell_type": "markdown",
   "id": "e643a88f",
   "metadata": {},
   "source": [
    "f. What is your overall inference on the effect of price on the rating\n",
    "\n",
    "Mature and Teen are more posively co-related in Content rating than 10+ and everyone\n"
   ]
  },
  {
   "cell_type": "markdown",
   "id": "07c20ce8",
   "metadata": {},
   "source": [
    "9. Look at all the numeric interactions together –\n",
    "\n",
    "a. Make a pairplort with the colulmns - 'Reviews', 'Size', 'Rating', 'Price'"
   ]
  },
  {
   "cell_type": "code",
   "execution_count": null,
   "id": "4d057b15",
   "metadata": {},
   "outputs": [],
   "source": [
    "sns.pairplot(df,vars=['Rating','Size', 'Reviews', 'Price'])\n",
    "plt.show()"
   ]
  },
  {
   "cell_type": "markdown",
   "id": "221ac70e",
   "metadata": {},
   "source": [
    "10. Rating vs. content rating\n",
    "\n",
    "a. Make a bar plot displaying the rating for each content rating"
   ]
  },
  {
   "cell_type": "code",
   "execution_count": null,
   "id": "9d2d385e",
   "metadata": {},
   "outputs": [],
   "source": [
    "a = df['Rating'].groupby(df['Content Rating']).median().plot(kind = 'bar')\n",
    "a.set(xlabel='Rating of content',ylabel='Average of rating')\n",
    "plt.show()"
   ]
  },
  {
   "cell_type": "markdown",
   "id": "d017831f",
   "metadata": {},
   "source": [
    "b. Which metric would you use? Mean? Median? Some other quantile?\n",
    "\n",
    "I Would prefer Median over others.\n",
    "\n",
    "c. Choose the right metric and plot"
   ]
  },
  {
   "cell_type": "code",
   "execution_count": null,
   "id": "3d1d6145",
   "metadata": {},
   "outputs": [],
   "source": [
    "df.groupby(['Content Rating'])['Rating'].count().plot.bar(color=\"b\")\n",
    "plt.ylabel('Rating')\n",
    "plt.show()"
   ]
  },
  {
   "cell_type": "markdown",
   "id": "9747199e",
   "metadata": {},
   "source": [
    "11. Content rating vs. size vs. rating – 3 variables at a time\n",
    "\n",
    "a. Create 5 buckets (20% records in each) based on Size"
   ]
  },
  {
   "cell_type": "code",
   "execution_count": null,
   "id": "96f8f96c",
   "metadata": {},
   "outputs": [],
   "source": [
    "#Checking skewness\n",
    "sns.distplot(df[\"Size\"], bins=5)\n",
    "plt.show()"
   ]
  },
  {
   "cell_type": "code",
   "execution_count": null,
   "id": "9ee36d32",
   "metadata": {},
   "outputs": [],
   "source": [
    "df['sb'] = pd.qcut(df['Size'], q=5)"
   ]
  },
  {
   "cell_type": "code",
   "execution_count": null,
   "id": "857bdb40",
   "metadata": {},
   "outputs": [],
   "source": [
    "df.sb.value_counts()"
   ]
  },
  {
   "cell_type": "code",
   "execution_count": null,
   "id": "0cdc7bed",
   "metadata": {},
   "outputs": [],
   "source": [
    "bins=[7.9, 5100, 14000, 21516, 34000, 100000]\n",
    "df['Size_Buckets'] = pd.cut(df['Size'], bins, labels=['VERY LOW','LOW','MED','HIGH','VERY HIGH'])\n",
    "pd.pivot_table(df, values='Rating', index='Size_Buckets', columns='Content Rating')"
   ]
  },
  {
   "cell_type": "markdown",
   "id": "0ad77e4a",
   "metadata": {},
   "source": [
    "b. By Content Rating vs. Size buckets, get the rating (20th percentile) for each combination"
   ]
  },
  {
   "cell_type": "code",
   "execution_count": null,
   "id": "badbbfd1",
   "metadata": {},
   "outputs": [],
   "source": [
    "df.Size.quantile([0.2, 0.4,0.6,0.8])"
   ]
  },
  {
   "cell_type": "code",
   "execution_count": null,
   "id": "a7f12dcb",
   "metadata": {},
   "outputs": [],
   "source": [
    "df.Rating.quantile([0.2, 0.4,0.6,0.8])"
   ]
  },
  {
   "cell_type": "markdown",
   "id": "b48ef632",
   "metadata": {},
   "source": [
    "c. Make a heatmap of this"
   ]
  },
  {
   "cell_type": "code",
   "execution_count": null,
   "id": "ccc6611b",
   "metadata": {},
   "outputs": [],
   "source": [
    "Size_Buckets =pd.pivot_table(df, values='Rating', index='Size_Buckets', columns='Content Rating', \n",
    "                     aggfunc=lambda x:np.quantile(x,0.2))\n",
    "Size_Buckets"
   ]
  },
  {
   "cell_type": "code",
   "execution_count": null,
   "id": "4a228e5a",
   "metadata": {},
   "outputs": [],
   "source": [
    "Size_Buckets =pd.pivot_table(df, values='Size_Buckets', index='Content Rating', columns='Rating', \n",
    "                     aggfunc=lambda x:np.quantile(x,0.2))\n",
    "Size_Buckets"
   ]
  },
  {
   "cell_type": "markdown",
   "id": "f94bcbcd",
   "metadata": {},
   "source": [
    "i. Annotated"
   ]
  },
  {
   "cell_type": "code",
   "execution_count": null,
   "id": "3c5da994",
   "metadata": {},
   "outputs": [],
   "source": [
    "sns.heatmap(Size_Buckets, annot = True)\n",
    "plt.show()"
   ]
  },
  {
   "cell_type": "markdown",
   "id": "33361bf9",
   "metadata": {},
   "source": [
    "ii. Greens color map"
   ]
  },
  {
   "cell_type": "code",
   "execution_count": null,
   "id": "57b0c00b",
   "metadata": {},
   "outputs": [],
   "source": [
    "sns.heatmap(Size_Buckets, annot=True, cmap='Greens')\n",
    "plt.show()"
   ]
  },
  {
   "cell_type": "markdown",
   "id": "6ef2b222",
   "metadata": {},
   "source": [
    "d. What’s your inference? Are lighter apps preferred in all categories? Heavier? Some?"
   ]
  },
  {
   "cell_type": "markdown",
   "id": "8ad56a84",
   "metadata": {},
   "source": [
    "Although on the otherhand when it comes to Mature 17+ category which are in less storage size, the number game is weak w.r.t rating as they are less preferred."
   ]
  },
  {
   "cell_type": "markdown",
   "id": "df5b9e8f",
   "metadata": {},
   "source": [
    "Apps which are in larger storage size are choosen for all types of content rating,but that number is adequate not huge.\n",
    "Although on the otherhand when it comes to Mature 17+ category which are in less storage size, the number game is weak w.r.t rating as they are less preferred."
   ]
  },
  {
   "cell_type": "code",
   "execution_count": null,
   "id": "9faff12d",
   "metadata": {},
   "outputs": [],
   "source": []
  }
 ],
 "metadata": {
  "kernelspec": {
   "display_name": "Python 3 (ipykernel)",
   "language": "python",
   "name": "python3"
  },
  "language_info": {
   "codemirror_mode": {
    "name": "ipython",
    "version": 3
   },
   "file_extension": ".py",
   "mimetype": "text/x-python",
   "name": "python",
   "nbconvert_exporter": "python",
   "pygments_lexer": "ipython3",
   "version": "3.10.2"
  }
 },
 "nbformat": 4,
 "nbformat_minor": 5
}
